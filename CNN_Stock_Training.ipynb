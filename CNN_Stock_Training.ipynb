{
 "cells": [
  {
   "cell_type": "markdown",
   "metadata": {
    "colab_type": "text",
    "id": "Sfoeqf9zcUwI"
   },
   "source": [
    "## Training Conv model"
   ]
  },
  {
   "cell_type": "markdown",
   "metadata": {
    "colab_type": "text",
    "id": "pe0hLaP5n7TN"
   },
   "source": [
    "## Training Environment"
   ]
  },
  {
   "cell_type": "code",
   "execution_count": 1,
   "metadata": {
    "colab": {},
    "colab_type": "code",
    "id": "uRq5n009n5aJ"
   },
   "outputs": [],
   "source": [
    "colab = False"
   ]
  },
  {
   "cell_type": "markdown",
   "metadata": {
    "colab_type": "text",
    "id": "4s-4yjBXs4Ik"
   },
   "source": [
    "### Import Package"
   ]
  },
  {
   "cell_type": "code",
   "execution_count": 3,
   "metadata": {
    "colab": {
     "base_uri": "https://localhost:8080/",
     "height": 717
    },
    "colab_type": "code",
    "id": "Fhz1RptNcUwJ",
    "outputId": "49dd96f0-64a0-473f-947a-9a3b7c5d40b6"
   },
   "outputs": [],
   "source": [
    "import numpy as np \n",
    "import pandas as pd \n",
    "import os, sys\n",
    "import math, random\n",
    "import datetime, time\n",
    "import collections\n",
    "from importlib import reload  \n",
    "\n",
    "import matplotlib.pyplot as plt\n",
    "import seaborn as sns\n",
    "# import plotly\n",
    "\n",
    "from sklearn.preprocessing import MinMaxScaler\n",
    "from sklearn.model_selection import train_test_split\n",
    "from sklearn.metrics import confusion_matrix, accuracy_score, classification_report, recall_score,f1_score\n",
    "\n",
    "import tensorflow as tf\n",
    "import tensorflow_addons as tfa\n",
    "from tensorflow.keras.models import Sequential \n",
    "from tensorflow.keras.optimizers import RMSprop\n",
    "from tensorflow.keras.layers import Activation,Dense ,Dropout ,GRU, ConvLSTM2D ,LSTM ,Bidirectional,TimeDistributed,Flatten, Conv1D, MaxPooling1D,BatchNormalization\n",
    "from tensorflow.keras.utils import to_categorical\n",
    "from tensorflow.keras import layers\n",
    "from tensorflow import keras\n",
    "\n",
    "pd.set_option('display.max_columns', None)\n",
    "pd.set_option('display.max_rows', 20)\n",
    "pd.set_option('max_colwidth',100)\n",
    "np.set_printoptions(precision = 2)\n",
    "np.set_printoptions(threshold=sys.maxsize)\n",
    "\n",
    "if colab == True:\n",
    "    from google.colab import files,drive\n",
    "    drive.mount('/content/drive',force_remount=True) #\n",
    "    %cd /content\n",
    "    !cp -r \"drive/My Drive/NCCU/Reserach/StockImplement\" 'StockImplement'\n",
    "    %cd /content/StockImplement/\n",
    "    !pip install mpl_finance \n",
    "    !wget https://launchpad.net/~mario-mariomedina/+archive/ubuntu/talib/+files/libta-lib0_0.4.0-oneiric1_amd64.deb -qO libta.deb\n",
    "    !wget https://launchpad.net/~mario-mariomedina/+archive/ubuntu/talib/+files/ta-lib0-dev_0.4.0-oneiric1_amd64.deb -qO ta.deb\n",
    "    !dpkg -i libta.deb ta.deb\n",
    "    !pip install ta-lib\n",
    "    import talib\n",
    "\n",
    "\n",
    "# from StockCode.Portfolio import *\n",
    "import StockCode.StockDataPre\n",
    "reload(StockCode.StockDataPre)\n",
    "from StockCode.StockDataPre import *\n",
    "import StockCode.TechIndex\n",
    "reload(StockCode.TechIndex)\n",
    "from StockCode.TechIndex import *\n",
    "import StockCode.ModelStructure\n",
    "reload(StockCode.ModelStructure)\n",
    "from StockCode.ModelStructure import *\n",
    "import StockCode.PlotUtility\n",
    "reload(StockCode.PlotUtility)\n",
    "from StockCode.PlotUtility import *\n",
    "import StockCode.ModelTrain\n",
    "reload(StockCode.ModelTrain)\n",
    "from StockCode.ModelTrain import *\n",
    "import StockCode.Portfolio\n",
    "reload(StockCode.Portfolio)\n",
    "from StockCode.Portfolio import *\n",
    "from StockCode.st0050 import *"
   ]
  },
  {
   "cell_type": "markdown",
   "metadata": {},
   "source": [
    "### Load Stock Data (from portfolio)"
   ]
  },
  {
   "cell_type": "code",
   "execution_count": 4,
   "metadata": {},
   "outputs": [
    {
     "name": "stdout",
     "output_type": "stream",
     "text": [
      "Portfolio add  0050\n",
      "Load Stock     data from : StockLake/Stock/0050.csv\n",
      "Load Benchmark data from : StockLake/Benchmark/0050_benchmark.csv\n",
      "Portfolio add  0050\n",
      "Start load stock data\n",
      "                 High        Low       Open      Close     Volume  Adj Close  \\\n",
      "2007-12-31  61.700001  61.049999  61.450001  61.450001  2870000.0  49.378479   \n",
      "\n",
      "           Stock  \n",
      "2007-12-31  0050  \n",
      "Start load benchmark data\n",
      "\n",
      "-----------------------------------Portfolio Report-----------------------------------\n",
      "Portfolio [('0050', 1.0)]\n",
      "Inital Money:  1000000  NTD\n",
      "Number of Invest Stocks:  1  stocks\n",
      "Portfolio Start :  2003/01/01 \n",
      "Portfolio End   :  2020/06/30\n",
      "Invest Days:  6390  days \n",
      "Trading Days:  3075  days\n",
      "Cumulative Return : -100.0 %\n",
      "Net Assets: 0  NTD\n",
      "Risk Free Rate: 0 %\n",
      "-----------------------------------Portfolio Report-----------------------------------\n",
      "\n"
     ]
    },
    {
     "name": "stderr",
     "output_type": "stream",
     "text": [
      "F:\\GoogleDrive\\NCCU\\Reserach\\StockImplement\\StockCode\\Portfolio.py:169: SettingWithCopyWarning: \n",
      "A value is trying to be set on a copy of a slice from a DataFrame.\n",
      "Try using .loc[row_indexer,col_indexer] = value instead\n",
      "\n",
      "See the caveats in the documentation: https://pandas.pydata.org/pandas-docs/stable/user_guide/indexing.html#returning-a-view-versus-a-copy\n",
      "  self.df_benchmark['Daily Return'] = self.df_benchmark[\"Adj Close\"].pct_change(1)\n"
     ]
    }
   ],
   "source": [
    "stocklist = ['0050']\n",
    "# stocklist = stock0050\n",
    "lake = call_portfolio(stocklist)\n",
    "data = portfolio_data(lake, stocklist)"
   ]
  },
  {
   "cell_type": "code",
   "execution_count": 5,
   "metadata": {},
   "outputs": [
    {
     "name": "stdout",
     "output_type": "stream",
     "text": [
      "Portfolio add  0050\n",
      "Start load stock data\n",
      "                 High        Low       Open      Close     Volume  Adj Close  \\\n",
      "2007-12-31  61.700001  61.049999  61.450001  61.450001  2870000.0  49.378479   \n",
      "\n",
      "           Stock  \n",
      "2007-12-31  0050  \n",
      "Start load benchmark data\n"
     ]
    },
    {
     "name": "stderr",
     "output_type": "stream",
     "text": [
      "F:\\GoogleDrive\\NCCU\\Reserach\\StockImplement\\StockCode\\Portfolio.py:169: SettingWithCopyWarning: \n",
      "A value is trying to be set on a copy of a slice from a DataFrame.\n",
      "Try using .loc[row_indexer,col_indexer] = value instead\n",
      "\n",
      "See the caveats in the documentation: https://pandas.pydata.org/pandas-docs/stable/user_guide/indexing.html#returning-a-view-versus-a-copy\n",
      "  self.df_benchmark['Daily Return'] = self.df_benchmark[\"Adj Close\"].pct_change(1)\n"
     ]
    }
   ],
   "source": [
    "Data = Portfolio(start = '2003/01/01', end = '2020/06/30')\n",
    "Data.add(stocklist)\n",
    "Data.load_data(StockLake = lake)\n",
    "\n",
    "# Data.portfolio()\n",
    "df__ = lake.df[lake.df == '2000/01/04']\n"
   ]
  },
  {
   "cell_type": "code",
   "execution_count": 6,
   "metadata": {},
   "outputs": [
    {
     "data": {
      "text/html": [
       "<div>\n",
       "<style scoped>\n",
       "    .dataframe tbody tr th:only-of-type {\n",
       "        vertical-align: middle;\n",
       "    }\n",
       "\n",
       "    .dataframe tbody tr th {\n",
       "        vertical-align: top;\n",
       "    }\n",
       "\n",
       "    .dataframe thead th {\n",
       "        text-align: right;\n",
       "    }\n",
       "</style>\n",
       "<table border=\"1\" class=\"dataframe\">\n",
       "  <thead>\n",
       "    <tr style=\"text-align: right;\">\n",
       "      <th></th>\n",
       "      <th>High</th>\n",
       "      <th>Low</th>\n",
       "      <th>Open</th>\n",
       "      <th>Close</th>\n",
       "      <th>Volume</th>\n",
       "      <th>Adj Close</th>\n",
       "      <th>Stock</th>\n",
       "      <th>ROI</th>\n",
       "      <th>Allocation</th>\n",
       "      <th>Position</th>\n",
       "    </tr>\n",
       "  </thead>\n",
       "  <tbody>\n",
       "    <tr>\n",
       "      <th>2007-12-31</th>\n",
       "      <td>61.700001</td>\n",
       "      <td>61.049999</td>\n",
       "      <td>61.450001</td>\n",
       "      <td>61.450001</td>\n",
       "      <td>2870000.0</td>\n",
       "      <td>49.378479</td>\n",
       "      <td>0050</td>\n",
       "      <td>1.0</td>\n",
       "      <td>1.0</td>\n",
       "      <td>1000000.0</td>\n",
       "    </tr>\n",
       "    <tr>\n",
       "      <th>2008-01-02</th>\n",
       "      <td>61.299999</td>\n",
       "      <td>60.000000</td>\n",
       "      <td>60.099998</td>\n",
       "      <td>60.099998</td>\n",
       "      <td>4975000.0</td>\n",
       "      <td>48.293678</td>\n",
       "      <td>0050</td>\n",
       "      <td>NaN</td>\n",
       "      <td>NaN</td>\n",
       "      <td>NaN</td>\n",
       "    </tr>\n",
       "    <tr>\n",
       "      <th>2008-01-03</th>\n",
       "      <td>59.349998</td>\n",
       "      <td>58.599998</td>\n",
       "      <td>59.099998</td>\n",
       "      <td>59.099998</td>\n",
       "      <td>7413000.0</td>\n",
       "      <td>47.490124</td>\n",
       "      <td>0050</td>\n",
       "      <td>NaN</td>\n",
       "      <td>NaN</td>\n",
       "      <td>NaN</td>\n",
       "    </tr>\n",
       "    <tr>\n",
       "      <th>2008-01-04</th>\n",
       "      <td>59.349998</td>\n",
       "      <td>58.049999</td>\n",
       "      <td>59.099998</td>\n",
       "      <td>59.099998</td>\n",
       "      <td>7686000.0</td>\n",
       "      <td>47.490124</td>\n",
       "      <td>0050</td>\n",
       "      <td>NaN</td>\n",
       "      <td>NaN</td>\n",
       "      <td>NaN</td>\n",
       "    </tr>\n",
       "    <tr>\n",
       "      <th>2008-01-07</th>\n",
       "      <td>57.599998</td>\n",
       "      <td>56.299999</td>\n",
       "      <td>56.400002</td>\n",
       "      <td>56.400002</td>\n",
       "      <td>20041000.0</td>\n",
       "      <td>45.320530</td>\n",
       "      <td>0050</td>\n",
       "      <td>NaN</td>\n",
       "      <td>NaN</td>\n",
       "      <td>NaN</td>\n",
       "    </tr>\n",
       "  </tbody>\n",
       "</table>\n",
       "</div>"
      ],
      "text/plain": [
       "                 High        Low       Open      Close      Volume  Adj Close  \\\n",
       "2007-12-31  61.700001  61.049999  61.450001  61.450001   2870000.0  49.378479   \n",
       "2008-01-02  61.299999  60.000000  60.099998  60.099998   4975000.0  48.293678   \n",
       "2008-01-03  59.349998  58.599998  59.099998  59.099998   7413000.0  47.490124   \n",
       "2008-01-04  59.349998  58.049999  59.099998  59.099998   7686000.0  47.490124   \n",
       "2008-01-07  57.599998  56.299999  56.400002  56.400002  20041000.0  45.320530   \n",
       "\n",
       "           Stock  ROI  Allocation   Position  \n",
       "2007-12-31  0050  1.0         1.0  1000000.0  \n",
       "2008-01-02  0050  NaN         NaN        NaN  \n",
       "2008-01-03  0050  NaN         NaN        NaN  \n",
       "2008-01-04  0050  NaN         NaN        NaN  \n",
       "2008-01-07  0050  NaN         NaN        NaN  "
      ]
     },
     "execution_count": 6,
     "metadata": {},
     "output_type": "execute_result"
    }
   ],
   "source": [
    "data.head()"
   ]
  },
  {
   "cell_type": "markdown",
   "metadata": {
    "colab_type": "text",
    "id": "FrITyxEeHAfc"
   },
   "source": [
    "## Data Preprocess"
   ]
  },
  {
   "cell_type": "markdown",
   "metadata": {
    "colab_type": "text",
    "id": "sw5awmfTFl-w"
   },
   "source": [
    "### Data Preprocess Parameter"
   ]
  },
  {
   "cell_type": "code",
   "execution_count": 7,
   "metadata": {
    "colab": {},
    "colab_type": "code",
    "id": "DUTZAcAZFmi9"
   },
   "outputs": [],
   "source": [
    "ratio_gap = 3 # +- ratio\n",
    "split_date = ['2007-12-31', '2017-01-01', '2019-01-01']\n",
    "window = 30\n",
    "y = 'Label'"
   ]
  },
  {
   "cell_type": "markdown",
   "metadata": {
    "colab_type": "text",
    "id": "AXgcmyqdcUwW"
   },
   "source": [
    "### Calculate Technical Index Data"
   ]
  },
  {
   "cell_type": "code",
   "execution_count": 8,
   "metadata": {
    "colab": {},
    "colab_type": "code",
    "id": "rSYDv7-JcUwX"
   },
   "outputs": [],
   "source": [
    "full_techindi = pd.DataFrame()\n",
    "for i in stocklist:\n",
    "    tmp_df = talib_index(data[data['Stock']==i])\n",
    "    full_techindi = full_techindi.append(tmp_df)   "
   ]
  },
  {
   "cell_type": "markdown",
   "metadata": {
    "colab_type": "text",
    "id": "8wdeBkhpcUwc"
   },
   "source": [
    "### Generate Label"
   ]
  },
  {
   "cell_type": "code",
   "execution_count": 9,
   "metadata": {
    "colab": {
     "base_uri": "https://localhost:8080/",
     "height": 34
    },
    "colab_type": "code",
    "id": "azVAryBecUwc",
    "outputId": "cc4ef00d-56bd-475e-c5fe-f1882b08b166"
   },
   "outputs": [
    {
     "name": "stdout",
     "output_type": "stream",
     "text": [
      "test 2 class for (0,1) which 1 is rise 3 % 0 is else\n",
      "Counter({0: 3019, 1: 56})\n"
     ]
    }
   ],
   "source": [
    "# add label\n",
    "df = add_label(full_techindi, ratio_gap, stocklist, types = 'test_2class')\n",
    "# drop basic indicator\n",
    "df.drop(['High','Low','Open','Volume','Adj Close','Stock','ROI','Allocation','Position','Close'],axis=1,inplace=True) #\n",
    "df.drop(['TANH'],axis=1,inplace=True)\n",
    "\n",
    "# drop cdl (pattern) indicator\n",
    "drop_cdl = []\n",
    "for col in df.columns:\n",
    "    if 'CDL' in col:\n",
    "        drop_cdl.append(col)\n",
    "df.drop(drop_cdl,axis=1,inplace=True)\n",
    "\n",
    "print(collections.Counter(df['Label']))\n"
   ]
  },
  {
   "cell_type": "markdown",
   "metadata": {
    "colab_type": "text",
    "id": "ybFQp1WWcUwf"
   },
   "source": [
    "### Data Preprocess"
   ]
  },
  {
   "cell_type": "code",
   "execution_count": 10,
   "metadata": {
    "colab": {
     "base_uri": "https://localhost:8080/",
     "height": 85
    },
    "colab_type": "code",
    "id": "EnT8_5KCcUwf",
    "outputId": "e0d134b7-84f5-4192-a28f-9e3151603ed0"
   },
   "outputs": [],
   "source": [
    "## data preprocess procedure\n",
    "df_stand = standar(df, y = y)\n",
    "df_ratio = standar(to_ratio(df, y = y), y = y)\n",
    "df_sma = standar(sma(df, n=5, y = y), y = y)\n",
    "df_ema = standar(ema(df, n=5, y = y), y = y)\n",
    "df_ema_10 = standar(ema(df, n=10, y = y), y = y)\n",
    "\n",
    "df_ema_10, df_stand = align_shape(df_ema_10, df_stand)\n",
    "df_ema_10, df_ratio = align_shape(df_ema_10, df_ratio)\n",
    "df_ema_10, df_ema = align_shape(df_ema_10, df_ema)\n",
    "df_ema_10, df_sma = align_shape(df_ema_10, df_sma)\n",
    "\n",
    "# df_sma, df_stand = align_shape(df_sma, df_stand)\n",
    "# df_sma, df_ratio = align_shape(df_sma, df_ratio)\n",
    "# df_sma, df_ema = align_shape(df_sma, df_ema)\n",
    "# df_sma, df_ema_10 = align_shape(df_sma, df_ema_10)\n",
    "\n",
    "df_stand.fillna(0, inplace = True)\n",
    "df_ratio.fillna(0, inplace = True)\n",
    "df_sma.fillna(0, inplace = True)\n",
    "df_ema.fillna(0, inplace = True)\n",
    "df_ema_10.fillna(0, inplace = True)\n"
   ]
  },
  {
   "cell_type": "markdown",
   "metadata": {
    "colab_type": "text",
    "id": "jdXL08jsNMfc"
   },
   "source": [
    "### Plot Each Indicator Distplot"
   ]
  },
  {
   "cell_type": "code",
   "execution_count": 11,
   "metadata": {
    "colab": {},
    "colab_type": "code",
    "id": "KuRLgw8UNL9w"
   },
   "outputs": [],
   "source": [
    "# chose plot dataframe\n",
    "# plot_col(df,3)"
   ]
  },
  {
   "cell_type": "markdown",
   "metadata": {
    "colab_type": "text",
    "id": "nezHbIoOcUwi"
   },
   "source": [
    "### Create Training Window"
   ]
  },
  {
   "cell_type": "code",
   "execution_count": 12,
   "metadata": {
    "colab": {
     "base_uri": "https://localhost:8080/",
     "height": 51
    },
    "colab_type": "code",
    "id": "481edWcPcUwm",
    "outputId": "c6df28bb-8245-41ea-9667-b4c04d65ceba"
   },
   "outputs": [
    {
     "name": "stdout",
     "output_type": "stream",
     "text": [
      "Index(['2007-12-31', '2008-01-02', '2008-01-03'], dtype='object')\n",
      "Index(['2020-06-24', '2020-06-29', '2020-06-30'], dtype='object')\n"
     ]
    }
   ],
   "source": [
    "# Yahoo API 抓取0050資料從2007/12/31開始\n",
    "print(df.index[:3])\n",
    "print(df.index[-3:])\n",
    "\n",
    "# Build training input by standar\n",
    "df_train_stand, df_valid_stand, df_test_stand = split_data(df_stand, split_date)\n",
    "# Build training, valid, test dataset\n",
    "X_train_stand, y_train_stand, X_valid_stand, y_valid_stand, X_test_stand, y_test_stand = input_output(df_train_stand, df_valid_stand, df_test_stand, y = y, window = window)\n",
    "\n",
    "# Build training input by ratio -> standar\n",
    "df_train_ratio, df_valid_ratio, df_test_ratio = split_data(df_ratio, split_date)\n",
    "X_train_ratio, y_train_ratio, X_valid_ratio, y_valid_ratio, X_test_ratio, y_test_ratio = input_output(df_train_ratio, df_valid_ratio, df_test_ratio, y = y, window = window)\n",
    "\n",
    "# Build training input by sma -> standar\n",
    "df_train_sma, df_valid_sma, df_test_sma = split_data(df_sma, split_date)\n",
    "X_train_sma, y_train_sma, X_valid_sma, y_valid_sma, X_test_sma, y_test_sma = input_output(df_train_sma, df_valid_sma, df_test_sma, y = y, window = window)\n",
    "\n",
    "# Build training input by ema -> standar\n",
    "df_train_ema, df_valid_ema, df_test_ema = split_data(df_ema, split_date)\n",
    "X_train_ema, y_train_ema, X_valid_ema, y_valid_ema, X_test_ema, y_test_ema = input_output(df_train_ema, df_valid_ema, df_test_ema, y = y, window = window)\n",
    "\n",
    "# Build training input by ema_10 -> standar\n",
    "df_train_ema_10, df_valid_ema_10, df_test_ema_10 = split_data(df_ema_10, split_date)\n",
    "X_train_ema_10, y_train_ema_10, X_valid_ema_10, y_valid_ema_10, X_test_ema_10, y_test_ema_10 = input_output(df_train_ema_10, df_valid_ema_10, df_test_ema_10, y = y, window = window)\n",
    "\n",
    "# Original for Compare Image\n",
    "df_train_ori, df_valid_ori, df_test_ori = split_data(df, split_date)\n",
    "X_train_ori, y_train_ori, X_valid_ori, y_valid_ori, _, _ = input_output(df_train_ori, df_valid_ori, df_test_ori, y = y, window = window)\n"
   ]
  },
  {
   "cell_type": "markdown",
   "metadata": {
    "colab_type": "text",
    "id": "8hzixs2ZX72Z"
   },
   "source": [
    "### Data Imbalance Process"
   ]
  },
  {
   "cell_type": "code",
   "execution_count": 13,
   "metadata": {
    "colab": {
     "base_uri": "https://localhost:8080/",
     "height": 102
    },
    "colab_type": "code",
    "id": "ywb743u3TcfY",
    "outputId": "6fefd449-146d-477e-b019-93ad28093747"
   },
   "outputs": [
    {
     "name": "stdout",
     "output_type": "stream",
     "text": [
      "Label 1 Data increase 98 from 2189 to 2287\n",
      "Label 2 Data increase 0 from 2287 to 2287\n",
      "Label 1 Data increase 98 from 2189 to 2287\n",
      "Label 2 Data increase 0 from 2287 to 2287\n",
      "Label 1 Data increase 98 from 2189 to 2287\n",
      "Label 2 Data increase 0 from 2287 to 2287\n",
      "Label 1 Data increase 98 from 2189 to 2287\n",
      "Label 2 Data increase 0 from 2287 to 2287\n",
      "Label 1 Data increase 98 from 2189 to 2287\n",
      "Label 2 Data increase 0 from 2287 to 2287\n"
     ]
    }
   ],
   "source": [
    "## Data Inflation\n",
    "n=2\n",
    "# \n",
    "X_train_stand, y_train_stand = increase_data(X_train_stand, y_train_stand, 1, n=n)\n",
    "X_train_stand, y_train_stand = increase_data(X_train_stand, y_train_stand, 2, n=n)\n",
    "\n",
    "X_train_ratio, y_train_ratio = increase_data(X_train_ratio, y_train_ratio, 1, n=n)\n",
    "X_train_ratio, y_train_ratio = increase_data(X_train_ratio, y_train_ratio, 2, n=n)\n",
    "\n",
    "X_train_sma, y_train_sma = increase_data(X_train_sma, y_train_sma, 1, n=n)\n",
    "X_train_sma, y_train_sma = increase_data(X_train_sma, y_train_sma, 2, n=n)\n",
    "\n",
    "X_train_ema, y_train_ema = increase_data(X_train_ema, y_train_ema, 1, n=n)\n",
    "X_train_ema, y_train_ema = increase_data(X_train_ema, y_train_ema, 2, n=n)\n",
    "\n",
    "X_train_ema_10, y_train_ema_10 = increase_data(X_train_ema_10, y_train_ema_10, 1, n=n)\n",
    "X_train_ema_10, y_train_ema_10 = increase_data(X_train_ema_10, y_train_ema_10, 2, n=n)\n"
   ]
  },
  {
   "cell_type": "markdown",
   "metadata": {
    "colab_type": "text",
    "id": "XHq2cExgcUwo"
   },
   "source": [
    "### Label Describe"
   ]
  },
  {
   "cell_type": "markdown",
   "metadata": {
    "colab_type": "text",
    "id": "UQksbxX6MD_9"
   },
   "source": [
    "#### Original Label Distribution"
   ]
  },
  {
   "cell_type": "code",
   "execution_count": 14,
   "metadata": {
    "colab": {
     "base_uri": "https://localhost:8080/",
     "height": 344
    },
    "colab_type": "code",
    "id": "5TVI22BhcUwo",
    "outputId": "e8194edb-213e-4d2d-8528-5ecaa767c71e"
   },
   "outputs": [
    {
     "name": "stdout",
     "output_type": "stream",
     "text": [
      "train Counter({0: 2169, 1: 51})\n",
      "valid Counter({0: 488, 1: 1})\n",
      "test Counter({0: 353, 1: 4})\n"
     ]
    },
    {
     "data": {
      "image/png": "[encoded data removed]",
      "text/plain": [
       "<Figure size 1152x288 with 3 Axes>"
      ]
     },
     "metadata": {
      "needs_background": "light"
     },
     "output_type": "display_data"
    }
   ],
   "source": [
    "fig, ax = plt.subplots(1,3,figsize=(16,4))\n",
    "sns.countplot(x = df_train_stand['Label'] , data = df_train_stand,ax = ax[0])\n",
    "ax[0].set_title('Training Data Label Distribution')\n",
    "sns.countplot(x = df_valid_stand['Label'] , data = df_valid_stand,ax = ax[1])\n",
    "ax[1].set_title('Valid Data Label Distribution')\n",
    "sns.countplot(x = df_test_stand['Label'] , data = df_test_stand,ax = ax[2])\n",
    "ax[2].set_title('Test Data Label Distribution')\n",
    "print('train',collections.Counter(df_train_stand['Label']))\n",
    "print('valid',collections.Counter(df_valid_stand['Label']))\n",
    "print('test',collections.Counter(df_test_stand['Label']))"
   ]
  },
  {
   "cell_type": "markdown",
   "metadata": {
    "colab_type": "text",
    "id": "Fa9UzUnZMI5s"
   },
   "source": [
    "#### After Data Imbalance Process Train Data Distribution"
   ]
  },
  {
   "cell_type": "code",
   "execution_count": 15,
   "metadata": {
    "colab": {
     "base_uri": "https://localhost:8080/",
     "height": 329
    },
    "colab_type": "code",
    "id": "O7ISpBZkcUwq",
    "outputId": "f2207e18-2426-460a-f16e-e7c22b7b53c9"
   },
   "outputs": [
    {
     "name": "stderr",
     "output_type": "stream",
     "text": [
      "C:\\ProgramData\\Anaconda3\\lib\\site-packages\\seaborn\\_decorators.py:36: FutureWarning: Pass the following variable as a keyword arg: x. From version 0.12, the only valid positional argument will be `data`, and passing other arguments without an explicit keyword will result in an error or misinterpretation.\n",
      "  warnings.warn(\n",
      "C:\\ProgramData\\Anaconda3\\lib\\site-packages\\seaborn\\_decorators.py:36: FutureWarning: Pass the following variable as a keyword arg: x. From version 0.12, the only valid positional argument will be `data`, and passing other arguments without an explicit keyword will result in an error or misinterpretation.\n",
      "  warnings.warn(\n",
      "C:\\ProgramData\\Anaconda3\\lib\\site-packages\\seaborn\\_decorators.py:36: FutureWarning: Pass the following variable as a keyword arg: x. From version 0.12, the only valid positional argument will be `data`, and passing other arguments without an explicit keyword will result in an error or misinterpretation.\n",
      "  warnings.warn(\n"
     ]
    },
    {
     "name": "stdout",
     "output_type": "stream",
     "text": [
      "train Counter({0: 2140, 1: 147})\n",
      "valid Counter({0: 457, 1: 1})\n",
      "test Counter({0: 322, 1: 4})\n"
     ]
    },
    {
     "data": {
      "image/png": "[encoded data removed]",
      "text/plain": [
       "<Figure size 1152x288 with 3 Axes>"
      ]
     },
     "metadata": {
      "needs_background": "light"
     },
     "output_type": "display_data"
    }
   ],
   "source": [
    "fig, ax = plt.subplots(1,3,figsize=(16,4))\n",
    "sns.countplot(np_count(y_train_stand),ax = ax[0])\n",
    "ax[0].set_title('Training Data Label Distribution')\n",
    "sns.countplot(np_count(y_valid_stand),ax = ax[1])\n",
    "ax[1].set_title('Valid Data Label Distribution')\n",
    "sns.countplot(np_count(y_test_stand),ax = ax[2])\n",
    "ax[2].set_title('Test Data Label Distribution')\n",
    "\n",
    "print('train',collections.Counter(np_count(y_train_stand)))\n",
    "print('valid',collections.Counter(np_count(y_valid_stand)))\n",
    "print('test',collections.Counter(np_count(y_test_stand)))"
   ]
  },
  {
   "cell_type": "code",
   "execution_count": 16,
   "metadata": {
    "colab": {
     "base_uri": "https://localhost:8080/",
     "height": 213
    },
    "colab_type": "code",
    "id": "67WT_gGZcUwt",
    "outputId": "5aa26ab5-1ea4-49ea-dcb9-e9cd5b18d547"
   },
   "outputs": [
    {
     "name": "stdout",
     "output_type": "stream",
     "text": [
      "108\n"
     ]
    },
    {
     "data": {
      "image/png": "[encoded data removed]",
      "text/plain": [
       "<Figure size 1440x1152 with 2 Axes>"
      ]
     },
     "metadata": {
      "needs_background": "light"
     },
     "output_type": "display_data"
    }
   ],
   "source": [
    "num = random.randint(0,256)\n",
    "print(num)\n",
    "a = X_valid_stand[:, :, :,np.newaxis]\n",
    "b = X_valid_ori[:, :, :,np.newaxis]\n",
    "fig,ax = plt.subplots(1,2,figsize=(20,16))\n",
    "# fig.colorbar()\n",
    "im = ax[0].imshow(b[num][:,:,0],cmap='magma')\n",
    "im = ax[0].set_title(\"Label: {}\".format(y_valid_ori[num]))\n",
    "im = ax[1].imshow(a[num][:,:,0],cmap='magma')\n",
    "im = ax[1].set_title(\"Label: {}\".format(y_valid_stand[num]))\n",
    "# fig.colorbar(im, ax=ax[0], shrink=0.5)\n",
    "# plt.colorbar(im ,ax=ax.ravel().tolist())"
   ]
  },
  {
   "cell_type": "markdown",
   "metadata": {
    "colab_type": "text",
    "id": "6Ao7RszJ6Ack"
   },
   "source": [
    "## Model Training"
   ]
  },
  {
   "cell_type": "markdown",
   "metadata": {
    "colab_type": "text",
    "id": "B_ZNBYnpGsb5"
   },
   "source": [
    "### Training Parameter"
   ]
  },
  {
   "cell_type": "code",
   "execution_count": null,
   "metadata": {
    "colab": {},
    "colab_type": "code",
    "id": "MojjYWB0Gjqc"
   },
   "outputs": [],
   "source": [
    "import StockCode.ModelStructure\n",
    "reload(StockCode.ModelStructure)\n",
    "from StockCode.ModelStructure import *\n",
    "\n",
    "# parameter \n",
    "epochs = 20\n",
    "shuffle = False\n",
    "batch_size = 64\n",
    "\n",
    "model_folder = 'model'\n",
    "training_folder = 'training_history'\n",
    "model_suffix = '_best_model'\n",
    "\n",
    "# class weight\n",
    "class_weight = True\n",
    "if class_weight:\n",
    "    weight = {0: 0.1, 1: 0.45, 2: 0.45 }\n",
    "    \n",
    "# training model\n",
    "training_dict = {\n",
    "#     SimpleRestNet(): 'SimpleRestNet',\n",
    "#     MultiInput(): 'MultiInput',\n",
    "#     resnet_18(): 'resnet_18',\n",
    "    MultiInputII(): 'MultiInputII'\n",
    "}\n",
    "\n",
    "def break_line():\n",
    "    print('-'*100)\n",
    "    print('\\n'*2)\n",
    "    print('-'*100)\n",
    "    return"
   ]
  },
  {
   "cell_type": "markdown",
   "metadata": {
    "colab_type": "text",
    "id": "RYYT21omnXN2"
   },
   "source": [
    "### Model Structure"
   ]
  },
  {
   "cell_type": "code",
   "execution_count": null,
   "metadata": {
    "colab": {
     "base_uri": "https://localhost:8080/",
     "height": 68
    },
    "colab_type": "code",
    "id": "-wQzthulnXN4",
    "outputId": "dc0ee975-4d81-4cec-bd3e-174b70686abe"
   },
   "outputs": [],
   "source": [
    "def model_structure(model, summary = True, plot = False, name = 'model.png'):\n",
    "    if summary:\n",
    "        model.summary()\n",
    "    if plot:\n",
    "        keras.utils.plot_model(model, os.path.join(model_folder, name), show_shapes = True)\n",
    "\n",
    "counter = 0\n",
    "for key,value in training_dict.items():\n",
    "    print(counter,value)\n",
    "    counter += 1\n",
    "    model_structure(key, name = value + '_model.png',summary=False ,plot=True)        "
   ]
  },
  {
   "cell_type": "code",
   "execution_count": null,
   "metadata": {
    "colab": {},
    "colab_type": "code",
    "id": "WP8S-0shnXN6"
   },
   "outputs": [],
   "source": [
    "# MultiInputII().summary()"
   ]
  },
  {
   "cell_type": "markdown",
   "metadata": {
    "colab_type": "text",
    "id": "TKtRtPVLcUwv"
   },
   "source": [
    "### Training Setting"
   ]
  },
  {
   "cell_type": "markdown",
   "metadata": {
    "colab_type": "text",
    "id": "-E5XpFBTcUwy"
   },
   "source": [
    "### Training Loop"
   ]
  },
  {
   "cell_type": "code",
   "execution_count": null,
   "metadata": {
    "colab": {
     "base_uri": "https://localhost:8080/",
     "height": 1000
    },
    "colab_type": "code",
    "id": "G5ymciducUwz",
    "outputId": "18188e0c-f899-48f7-cc6b-e32fbef06515"
   },
   "outputs": [],
   "source": [
    "%%time\n",
    "\n",
    "training_time = []\n",
    "training_time.append(datetime.datetime.now())\n",
    "print(datetime.datetime.now().strftime('%Y/%m/%d %H:%M:%S'))\n",
    "\n",
    "Input = {\n",
    "    \"input_standar\": X_train_stand[:,:,:,np.newaxis] , \n",
    "    \"input_ratio\": X_train_ratio[:,:,:,np.newaxis], \n",
    "    \"input_sma\": X_train_sma[:,:,:,np.newaxis],\n",
    "    \"input_ema\": X_train_ema[:,:,:,np.newaxis],\n",
    "    \"input_ema_10\": X_train_ema_10[:,:,:,np.newaxis]\n",
    "} \n",
    "Predict = {\n",
    "    \"input_standar\": X_test_stand[:,:,:,np.newaxis] , \n",
    "    \"input_ratio\": X_test_ratio[:,:,:,np.newaxis], \n",
    "    \"input_sma\": X_test_sma[:,:,:,np.newaxis],\n",
    "    \"input_ema\": X_test_ema[:,:,:,np.newaxis],\n",
    "    \"input_ema_10\": X_test_ema_10[:,:,:,np.newaxis]\n",
    "} \n",
    "\n",
    "Output = y_train_stand\n",
    "\n",
    "for keys, values in training_dict.items():\n",
    "    print(values,'\\n')\n",
    "    model_train(\n",
    "        Input, Output, \n",
    "        model = keys, epochs = epochs, shuffle = False ,\n",
    "        prefix = values, metric = metric, class_weight = weight\n",
    "    )\n",
    "    break_line()\n",
    "    training_time.append(datetime.datetime.now())\n",
    "\n",
    "training_time = [t1-t2 for t1,t2 in zip(training_time[1:],training_time[:-1])]\n",
    "\n",
    "print('total training {} minutes'.format(round(((training_time[-1] - training_time[0])/60).seconds,2)))\n",
    "\n"
   ]
  },
  {
   "cell_type": "markdown",
   "metadata": {
    "colab_type": "text",
    "id": "MiCqAoBLcUw1"
   },
   "source": [
    "### Summary Training History"
   ]
  },
  {
   "cell_type": "code",
   "execution_count": null,
   "metadata": {
    "colab": {
     "base_uri": "https://localhost:8080/",
     "height": 637
    },
    "colab_type": "code",
    "id": "lIbjIEo2cUw2",
    "outputId": "aecfa65d-c497-41d2-a6b6-79f285437bd0"
   },
   "outputs": [],
   "source": [
    "def metric(y_truth, y_pred):\n",
    "    acc = accuracy_score(y_truth, y_pred)*100\n",
    "    recall = recall_score(y_truth, y_pred, average='micro')*100\n",
    "    f1 = f1_score(y_truth, y_pred, average='micro')*100\n",
    "    return [acc,recall,f1]\n",
    "\n",
    "# if colab ==True:\n",
    "#     model_folder = os.path.join(\"/content/drive/My Drive/NCCU/Reserach/StockImplement\",model_folder)\n",
    "\n",
    "training_record='training_record.csv'\n",
    "record_path = os.path.join(model_folder, training_record)\n",
    "\n",
    "test_list = []\n",
    "model_list = []\n",
    "history_list = []\n",
    "for key,value in training_dict.items():\n",
    "    test_list.append(value)\n",
    "    model_list.append(value + model_suffix + '.h5')\n",
    "    history_list.append(value + model_suffix + '.csv')\n",
    "    \n",
    "column_list = ['ModelStructure','TrainMinutes','epochs','batch_size','window','ratio_gap','inflate','class_weight','acc','recall','f1']\n",
    "train_parameter = [epochs, batch_size, window, ratio_gap, n, weight]\n",
    "\n",
    "counter = 0\n",
    "record = []\n",
    "for j in range(len(test_list)):\n",
    "    tmp_list = []\n",
    "    tmp_list.append(test_list[counter]) # model structure\n",
    "    tmp_list.append(round(training_time[counter].seconds/60,1)) # training time minutes\n",
    "    tmp_list.extend(train_parameter) # training parameter\n",
    "    model_path = os.path.join(model_folder, model_list[counter])\n",
    "    model = tf.keras.models.load_model(model_path)\n",
    "    y_pred = np.argmax(model.predict(Predict) , axis=1)\n",
    "    y_truth = np.argmax(y_test_stand, axis=1)\n",
    "    metric_index = metric(y_truth,y_pred)\n",
    "    tmp_list.extend(metric_index)\n",
    "    record.append(tmp_list)        \n",
    "    counter += 1\n",
    "\n",
    "this_training = pd.DataFrame(record,columns = column_list)    \n",
    "if os.path.isfile(record_path):\n",
    "    df_threshold = pd.read_csv(record_path)\n",
    "    df_threshold = pd.concat([df_threshold,this_training])\n",
    "else:\n",
    "    df_threshold = this_training\n",
    "df_threshold.to_csv(record_path,index=False)\n",
    "df_threshold"
   ]
  },
  {
   "cell_type": "code",
   "execution_count": null,
   "metadata": {},
   "outputs": [],
   "source": [
    "index=0\n",
    "\n",
    "model_plot(model_list[index], history_list[index], Predict, y_test_stand)    \n"
   ]
  },
  {
   "cell_type": "markdown",
   "metadata": {
    "colab_type": "text",
    "id": "n9G3O8tIEsrB"
   },
   "source": [
    "### Naive Test"
   ]
  },
  {
   "cell_type": "code",
   "execution_count": null,
   "metadata": {
    "colab": {
     "base_uri": "https://localhost:8080/",
     "height": 34
    },
    "colab_type": "code",
    "id": "to83uOybEolL",
    "outputId": "e67a6aae-19d4-4248-cad6-07af93e3f589"
   },
   "outputs": [],
   "source": [
    "y_truth = np.argmax(y_test_stand, axis=1)\n",
    "y_pred = [0]*len(y_truth)\n",
    "acc = accuracy_score(y_truth, y_pred)*100\n",
    "print('setting every input predict 0 have accuracy {} %'.format(acc))"
   ]
  },
  {
   "cell_type": "code",
   "execution_count": null,
   "metadata": {
    "colab": {
     "base_uri": "https://localhost:8080/",
     "height": 289
    },
    "colab_type": "code",
    "id": "1xY9RKC7cUxB",
    "outputId": "23cd867c-7258-445f-f272-6ad316e6cb85"
   },
   "outputs": [],
   "source": [
    "# print(' {} classified accuracy : {} %'.format(model_name,accuracy_score(y_truth, y_pred)*100),'\\n')\n",
    "# print(classification_report(y_truth, y_pred, zero_division=0))\n",
    "# print('Prediction','\\n  ',collections.Counter(y_pred))\n",
    "# print('Truth','\\n  ',collections.Counter(y_truth))"
   ]
  },
  {
   "cell_type": "code",
   "execution_count": null,
   "metadata": {},
   "outputs": [],
   "source": []
  }
 ],
 "metadata": {
  "accelerator": "GPU",
  "colab": {
   "collapsed_sections": [],
   "name": "CNN_Stock_Training.ipynb",
   "provenance": [],
   "toc_visible": true
  },
  "kernelspec": {
   "display_name": "Python 3",
   "language": "python",
   "name": "python3"
  },
  "language_info": {
   "codemirror_mode": {
    "name": "ipython",
    "version": 3
   },
   "file_extension": ".py",
   "mimetype": "text/x-python",
   "name": "python",
   "nbconvert_exporter": "python",
   "pygments_lexer": "ipython3",
   "version": "3.8.8"
  }
 },
 "nbformat": 4,
 "nbformat_minor": 4
}
